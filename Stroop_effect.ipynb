{
 "cells": [
  {
   "cell_type": "markdown",
   "metadata": {},
   "source": [
    "1. What is our independent variable? What is our dependent variable?"
   ]
  },
  {
   "cell_type": "raw",
   "metadata": {},
   "source": [
    "Answer: Inderpendent Variable: \n",
    "            Word Type - whether the word is congruent or not\n",
    "            Word size - number of letters in the word\n",
    "        Dependent Variable:\n",
    "            Time taken to read each word (sec)"
   ]
  },
  {
   "cell_type": "markdown",
   "metadata": {},
   "source": [
    "2. What is an appropriate set of hypotheses for this task? What kind of statistical test do you expect to perform? Justify your choices."
   ]
  },
  {
   "cell_type": "raw",
   "metadata": {},
   "source": [
    "Answer: Null Hypothesis: ( μi - μc = 0 )\n",
    "            We assume there is no difference between the time taken to read the congruent words and the incongruent words.\n",
    "        Alternative Hypothesis: ( μi - μc != 0 )\n",
    "            There is a significant difference between their average response times.\n",
    "        \n",
    "        Paired Samples T Test / Dependent Samples T Test is suitable for the given scenario. As we don't have any clue about the population parameters of the samples, z-tests are ruled out. The two conditions here are dependent because the first task will give certain pratice of the environment. And while performing the second task there'll be certain bias included automatically ithout our knoledge "
   ]
  },
  {
   "cell_type": "code",
   "execution_count": 5,
   "metadata": {},
   "outputs": [
    {
     "name": "stdout",
     "output_type": "stream",
     "text": [
      "/Users/airbook/Desktop/Machine Learning/projects/Stroop_effect\n",
      "    Congruent  Incongruent\n",
      "0      12.079       19.278\n",
      "1      16.791       18.741\n",
      "2       9.564       21.214\n",
      "3       8.630       15.687\n",
      "4      14.669       22.803\n",
      "5      12.238       20.878\n",
      "6      14.692       24.572\n",
      "7       8.987       17.394\n",
      "8       9.401       20.762\n",
      "9      14.480       26.282\n",
      "10     22.328       24.524\n",
      "11     15.298       18.644\n",
      "12     15.073       17.510\n",
      "13     16.929       20.330\n",
      "14     18.200       35.255\n",
      "15     12.130       22.158\n",
      "16     18.495       25.139\n",
      "17     10.639       20.429\n",
      "18     11.344       17.425\n",
      "19     12.369       34.288\n",
      "20     12.944       23.894\n",
      "21     14.233       17.960\n",
      "22     19.710       22.058\n",
      "23     16.004       21.157\n"
     ]
    }
   ],
   "source": [
    "import os\n",
    "path = os.getcwd()\n",
    "print path\n",
    "import pandas\n",
    "df_stroop = pandas.read_csv(path + '/stroopdata_1.csv')\n",
    "print(df_stroop)"
   ]
  },
  {
   "cell_type": "markdown",
   "metadata": {},
   "source": [
    "3. Report some descriptive statistics regarding this dataset. Include at least one measure of central tendency and at least one measure of variability."
   ]
  },
  {
   "cell_type": "code",
   "execution_count": 7,
   "metadata": {},
   "outputs": [
    {
     "name": "stdout",
     "output_type": "stream",
     "text": [
      "('means: congruent - ', 14.051125000000004, '; incongruent - ', 22.01591666666667)\n",
      "('Deviations: congruent - ', 3.559357957645195, '; incongruent - ', 4.797057122469138)\n"
     ]
    }
   ],
   "source": [
    "congruent_mean = df_stroop['Congruent'].mean()\n",
    "incongruent_mean = df_stroop['Incongruent'].mean()\n",
    "congruent_dev = df_stroop['Congruent'].std()\n",
    "incongruent_dev = df_stroop['Incongruent'].std()\n",
    "print(\"means: congruent - \",congruent_mean,\"; incongruent - \",incongruent_mean)\n",
    "print(\"Deviations: congruent - \",congruent_dev,\"; incongruent - \",incongruent_dev)"
   ]
  },
  {
   "cell_type": "markdown",
   "metadata": {},
   "source": [
    "\n",
    "4. Provide one or two visualizations that show the distribution of the sample data. Write one or two sentences noting what you observe about the plot or plots."
   ]
  },
  {
   "cell_type": "code",
   "execution_count": 10,
   "metadata": {},
   "outputs": [
    {
     "data": {
      "image/png": "[encoded data removed]",
      "text/plain": [
       "<matplotlib.figure.Figure at 0x11631c610>"
      ]
     },
     "metadata": {},
     "output_type": "display_data"
    }
   ],
   "source": [
    "import numpy as np\n",
    "import matplotlib.pyplot as plt\n",
    "%matplotlib inline\n",
    "\n",
    "N = len(df)\n",
    "x = df.index + 1\n",
    "y1 = df['Congruent']\n",
    "colors1 = 'blue'\n",
    "y2 = df['Incongruent']\n",
    "colors2 = 'red'\n",
    "area = np.pi * 15 # 0 to 15 point radiuses\n",
    "\n",
    "fig = plt.figure()\n",
    "fig.suptitle('Congruent And Incongruent Words: ', fontsize=14, fontweight='bold')\n",
    "ax = fig.add_subplot(111)\n",
    "fig.subplots_adjust(top=0.85)\n",
    "ax.set_title('Response Time Scatterplot')\n",
    "ax.set_xlabel('Words #')\n",
    "ax.set_ylabel('Response Time')\n",
    "\n",
    "plt.xticks(np.arange(min(x), max(x)+1, 1.0))\n",
    "plt.yticks(np.arange(0, 35, 2))\n",
    "plt.scatter(x, y1, s=area, c=colors1, alpha=0.5)\n",
    "plt.scatter(x, y2, s=area, c=colors2, alpha=0.5)\n",
    "plt.ylim([0,35])\n",
    "plt.xlim([0,24])\n",
    "plt.show()"
   ]
  },
  {
   "cell_type": "markdown",
   "metadata": {},
   "source": [
    "From the above plot we can see that the congruent words(blue dots) generally takes less amount of time compared to the incongruent words.\n",
    "The average response time of the congruent condition is definitely lesser than that of incongruent conditions."
   ]
  },
  {
   "cell_type": "markdown",
   "metadata": {},
   "source": [
    "5. Now, perform the statistical test and report your results. What is your confidence level and your critical statistic value? Do you reject the null hypothesis or fail to reject it? Come to a conclusion in terms of the experiment task. Did the results match up with your expectations?"
   ]
  },
  {
   "cell_type": "markdown",
   "metadata": {},
   "source": [
    "confidence Level = 90%\n",
    "t-critical value from t-table = 1.711"
   ]
  },
  {
   "cell_type": "code",
   "execution_count": 13,
   "metadata": {},
   "outputs": [
    {
     "data": {
      "text/plain": [
       "4.86"
      ]
     },
     "execution_count": 13,
     "metadata": {},
     "output_type": "execute_result"
    }
   ],
   "source": [
    "n = len(df_stroop)\n",
    "PE = incongruent_mean - congruent_mean\n",
    "#s - sample standard deviation of differences\n",
    "#1. D = sample difference\n",
    "df_stroop['D'] = df_stroop['Incongruent'] - df_stroop['Congruent']\n",
    "\n",
    "#2. DFM = difference from the mean\n",
    "#SQD = squared differences from the mean\n",
    "DFM = df_stroop['D'] - df_stroop['D'].mean()\n",
    "df_stroop['SQD'] = DFM*DFM\n",
    "\n",
    "#3. SSD = sum of squared differences\n",
    "SSD = df_stroop['SQD'].sum()\n",
    "\n",
    "#4. v = variance = SSD/(n-1)\n",
    "v = SSD/(n-1)\n",
    "\n",
    "#5. s = sqrt(v)\n",
    "from math import *\n",
    "s = sqrt(v)\n",
    "round(s,2)"
   ]
  },
  {
   "cell_type": "code",
   "execution_count": 14,
   "metadata": {},
   "outputs": [
    {
     "data": {
      "text/plain": [
       "8.0207"
      ]
     },
     "execution_count": 14,
     "metadata": {},
     "output_type": "execute_result"
    }
   ],
   "source": [
    "#t-statistic\n",
    "#t = PE/(s/√n)\n",
    "#PE = (μi - μc)\n",
    "t = PE/(s/(sqrt(n)))\n",
    "round(t,4)"
   ]
  },
  {
   "cell_type": "markdown",
   "metadata": {},
   "source": [
    "\n",
    "t-statistic > t-critical\n",
    "8.0207 > 1.711"
   ]
  },
  {
   "cell_type": "markdown",
   "metadata": {},
   "source": [
    "Therefore the null hypothesis can be rejected which says there is no significant difference in response time for congruent and incongruent conditions. The t_value for the above given data is way out of bounds of the critical value. Therefore we conclude that there is a significant difference in the response times and the response times for the incongruent condition are higher than that of the congruent condition."
   ]
  }
 ],
 "metadata": {
  "kernelspec": {
   "display_name": "Python 2",
   "language": "python",
   "name": "python2"
  },
  "language_info": {
   "codemirror_mode": {
    "name": "ipython",
    "version": 2
   },
   "file_extension": ".py",
   "mimetype": "text/x-python",
   "name": "python",
   "nbconvert_exporter": "python",
   "pygments_lexer": "ipython2",
   "version": "2.7.14"
  }
 },
 "nbformat": 4,
 "nbformat_minor": 2
}
